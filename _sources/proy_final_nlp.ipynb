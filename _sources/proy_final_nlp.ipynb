{
  "nbformat": 4,
  "nbformat_minor": 0,
  "metadata": {
    "colab": {
      "provenance": [],
      "gpuType": "V28"
    },
    "kernelspec": {
      "name": "python3",
      "display_name": "Python 3"
    },
    "language_info": {
      "name": "python"
    },
    "accelerator": "TPU"
  },
  "cells": [
    {
      "cell_type": "markdown",
      "source": [
        "# Análisis Exploratorio de Datos\n",
        "\n",
        "El EDA de este proyecto se encuentra en el siguiente Dashboard:\n",
        "\n",
        "https://nlp-app-t2xrr4crva7iww8bcqoytj.streamlit.app/"
      ],
      "metadata": {
        "id": "lSJrojU3p47n"
      }
    },
    {
      "cell_type": "markdown",
      "source": [
        "# Algoritmos de clasificación (RNN y LSTM) para el análisis de sentimiento."
      ],
      "metadata": {
        "id": "ZE4GZ2VT7Hcb"
      }
    },
    {
      "cell_type": "code",
      "source": [
        "pip install keras-preprocessing xgboost imblearn"
      ],
      "metadata": {
        "id": "eYCA033D7lxo",
        "collapsed": true
      },
      "execution_count": null,
      "outputs": []
    },
    {
      "cell_type": "code",
      "execution_count": 58,
      "metadata": {
        "id": "FFhMhMfm6-BU"
      },
      "outputs": [],
      "source": [
        "import pandas as pd\n",
        "import sys\n",
        "import tensorflow.keras\n",
        "import pandas as pd\n",
        "import sklearn as sk\n",
        "import tensorflow as tf\n",
        "import warnings\n",
        "warnings.filterwarnings('ignore')\n",
        "from tqdm import tqdm\n",
        "from tensorflow.keras.preprocessing.text import Tokenizer\n",
        "tqdm.pandas(desc=\"progress-bar\")\n",
        "from gensim.models import Doc2Vec\n",
        "from sklearn import utils\n",
        "from sklearn.model_selection import train_test_split\n",
        "from keras_preprocessing.sequence import pad_sequences\n",
        "import gensim\n",
        "from sklearn.linear_model import LogisticRegression\n",
        "from gensim.models.doc2vec import TaggedDocument\n",
        "import re\n",
        "import seaborn as sns\n",
        "import matplotlib.pyplot as plt\n",
        "import nltk\n",
        "from nltk.corpus import stopwords\n",
        "from keras.models import Sequential\n",
        "from keras.layers import LSTM, Dense, Embedding, SimpleRNN, Bidirectional, GlobalAveragePooling1D, Dense, Dropout\n",
        "from tensorflow.keras.optimizers import Adam\n",
        "import os\n",
        "from joblib import dump, load\n",
        "import numpy as np\n",
        "import tensorflow_hub as hub\n",
        "import tensorflow_text as text\n",
        "from tensorflow.keras.optimizers.legacy import Adam\n",
        "import xgboost as xgb\n",
        "from sklearn.metrics import accuracy_score\n",
        "from sklearn.metrics import classification_report\n"
      ]
    },
    {
      "cell_type": "markdown",
      "source": [
        "## Preparación de los datos"
      ],
      "metadata": {
        "id": "Nuq3nHY0EayT"
      }
    },
    {
      "cell_type": "code",
      "source": [
        "def leer_archivo(nombre_archivo):\n",
        "    try:\n",
        "        with open(nombre_archivo, \"r\", encoding=\"utf-8\") as file:\n",
        "            lineas = file.readlines()\n",
        "    except UnicodeDecodeError:\n",
        "        try:\n",
        "            with open(nombre_archivo, \"r\", encoding=\"latin1\") as file:\n",
        "                lineas = file.readlines()\n",
        "        except Exception as e:\n",
        "            raise ValueError(f\"Error al leer el archivo {nombre_archivo} con codificación UTF-8 o Latin1: {e}\")\n",
        "    except FileNotFoundError as e:\n",
        "        raise FileNotFoundError(f\"El archivo {nombre_archivo} no se encontró. Por favor, verifica la ruta.\") from e\n",
        "\n",
        "    # Convertir las líneas a DataFrame y limpiar contenido\n",
        "    df = pd.DataFrame(lineas, columns=[\"Contenido\"])\n",
        "    df[\"Contenido\"] = df[\"Contenido\"].str.strip()\n",
        "    return df\n",
        "\n",
        "# Rutas de los archivos\n",
        "archivos = {\n",
        "    \"train\": \"/content/train.txt\",\n",
        "    \"train_label\": \"/content/train_label.txt\",\n",
        "    \"test\": \"/content/test.txt\",\n",
        "    \"test_label\": \"/content/test_label.txt\"\n",
        "}\n",
        "\n",
        "dataframes = {}\n",
        "\n",
        "# Leer los archivos\n",
        "try:\n",
        "    for nombre, ruta in archivos.items():\n",
        "        dataframes[nombre] = leer_archivo(ruta)\n",
        "    train = dataframes[\"train\"]\n",
        "    train_label = dataframes[\"train_label\"]\n",
        "    test = dataframes[\"test\"]\n",
        "    test_label = dataframes[\"test_label\"]\n",
        "except FileNotFoundError as e:\n",
        "    print(f\"Error: {e}\")\n",
        "except ValueError as e:\n",
        "    print(f\"Error de codificación: {e}\")\n",
        "except Exception as e:\n",
        "    print(f\"Error inesperado: {e}\")\n"
      ],
      "metadata": {
        "id": "Ht9x-XDVXWyU"
      },
      "execution_count": 177,
      "outputs": []
    },
    {
      "cell_type": "code",
      "source": [
        "train[\"Label\"] = train_label[\"Contenido\"]\n",
        "test[\"Label\"] = test_label[\"Contenido\"]"
      ],
      "metadata": {
        "id": "CmgZP6_ZPxg9"
      },
      "execution_count": 178,
      "outputs": []
    },
    {
      "cell_type": "code",
      "source": [
        "train.head()"
      ],
      "metadata": {
        "colab": {
          "base_uri": "https://localhost:8080/",
          "height": 206
        },
        "id": "N3raKPmcXeIL",
        "outputId": "f371e208-0c7d-4164-846c-71cf08d26a8f"
      },
      "execution_count": null,
      "outputs": [
        {
          "output_type": "execute_result",
          "data": {
            "text/plain": [
              "                                           Contenido Label\n",
              "0  ประเทศเราผลิตและส่งออกยาสูบเยอะสุดในโลกจิงป่าวคับ   neu\n",
              "1                                                 คะ   neu\n",
              "2                        อิเหี้ยออมทำกูอยากกินเอ็มเค   neg\n",
              "3                                                😅😅😅   neu\n",
              "4                            สวัสดีวันพุธ แนน อะไรนะ   neu"
            ],
            "text/html": [
              "\n",
              "  <div id=\"df-867a40e7-55bd-415d-933d-d8f74a978f3c\" class=\"colab-df-container\">\n",
              "    <div>\n",
              "<style scoped>\n",
              "    .dataframe tbody tr th:only-of-type {\n",
              "        vertical-align: middle;\n",
              "    }\n",
              "\n",
              "    .dataframe tbody tr th {\n",
              "        vertical-align: top;\n",
              "    }\n",
              "\n",
              "    .dataframe thead th {\n",
              "        text-align: right;\n",
              "    }\n",
              "</style>\n",
              "<table border=\"1\" class=\"dataframe\">\n",
              "  <thead>\n",
              "    <tr style=\"text-align: right;\">\n",
              "      <th></th>\n",
              "      <th>Contenido</th>\n",
              "      <th>Label</th>\n",
              "    </tr>\n",
              "  </thead>\n",
              "  <tbody>\n",
              "    <tr>\n",
              "      <th>0</th>\n",
              "      <td>ประเทศเราผลิตและส่งออกยาสูบเยอะสุดในโลกจิงป่าวคับ</td>\n",
              "      <td>neu</td>\n",
              "    </tr>\n",
              "    <tr>\n",
              "      <th>1</th>\n",
              "      <td>คะ</td>\n",
              "      <td>neu</td>\n",
              "    </tr>\n",
              "    <tr>\n",
              "      <th>2</th>\n",
              "      <td>อิเหี้ยออมทำกูอยากกินเอ็มเค</td>\n",
              "      <td>neg</td>\n",
              "    </tr>\n",
              "    <tr>\n",
              "      <th>3</th>\n",
              "      <td>😅😅😅</td>\n",
              "      <td>neu</td>\n",
              "    </tr>\n",
              "    <tr>\n",
              "      <th>4</th>\n",
              "      <td>สวัสดีวันพุธ แนน อะไรนะ</td>\n",
              "      <td>neu</td>\n",
              "    </tr>\n",
              "  </tbody>\n",
              "</table>\n",
              "</div>\n",
              "    <div class=\"colab-df-buttons\">\n",
              "\n",
              "  <div class=\"colab-df-container\">\n",
              "    <button class=\"colab-df-convert\" onclick=\"convertToInteractive('df-867a40e7-55bd-415d-933d-d8f74a978f3c')\"\n",
              "            title=\"Convert this dataframe to an interactive table.\"\n",
              "            style=\"display:none;\">\n",
              "\n",
              "  <svg xmlns=\"http://www.w3.org/2000/svg\" height=\"24px\" viewBox=\"0 -960 960 960\">\n",
              "    <path d=\"M120-120v-720h720v720H120Zm60-500h600v-160H180v160Zm220 220h160v-160H400v160Zm0 220h160v-160H400v160ZM180-400h160v-160H180v160Zm440 0h160v-160H620v160ZM180-180h160v-160H180v160Zm440 0h160v-160H620v160Z\"/>\n",
              "  </svg>\n",
              "    </button>\n",
              "\n",
              "  <style>\n",
              "    .colab-df-container {\n",
              "      display:flex;\n",
              "      gap: 12px;\n",
              "    }\n",
              "\n",
              "    .colab-df-convert {\n",
              "      background-color: #E8F0FE;\n",
              "      border: none;\n",
              "      border-radius: 50%;\n",
              "      cursor: pointer;\n",
              "      display: none;\n",
              "      fill: #1967D2;\n",
              "      height: 32px;\n",
              "      padding: 0 0 0 0;\n",
              "      width: 32px;\n",
              "    }\n",
              "\n",
              "    .colab-df-convert:hover {\n",
              "      background-color: #E2EBFA;\n",
              "      box-shadow: 0px 1px 2px rgba(60, 64, 67, 0.3), 0px 1px 3px 1px rgba(60, 64, 67, 0.15);\n",
              "      fill: #174EA6;\n",
              "    }\n",
              "\n",
              "    .colab-df-buttons div {\n",
              "      margin-bottom: 4px;\n",
              "    }\n",
              "\n",
              "    [theme=dark] .colab-df-convert {\n",
              "      background-color: #3B4455;\n",
              "      fill: #D2E3FC;\n",
              "    }\n",
              "\n",
              "    [theme=dark] .colab-df-convert:hover {\n",
              "      background-color: #434B5C;\n",
              "      box-shadow: 0px 1px 3px 1px rgba(0, 0, 0, 0.15);\n",
              "      filter: drop-shadow(0px 1px 2px rgba(0, 0, 0, 0.3));\n",
              "      fill: #FFFFFF;\n",
              "    }\n",
              "  </style>\n",
              "\n",
              "    <script>\n",
              "      const buttonEl =\n",
              "        document.querySelector('#df-867a40e7-55bd-415d-933d-d8f74a978f3c button.colab-df-convert');\n",
              "      buttonEl.style.display =\n",
              "        google.colab.kernel.accessAllowed ? 'block' : 'none';\n",
              "\n",
              "      async function convertToInteractive(key) {\n",
              "        const element = document.querySelector('#df-867a40e7-55bd-415d-933d-d8f74a978f3c');\n",
              "        const dataTable =\n",
              "          await google.colab.kernel.invokeFunction('convertToInteractive',\n",
              "                                                    [key], {});\n",
              "        if (!dataTable) return;\n",
              "\n",
              "        const docLinkHtml = 'Like what you see? Visit the ' +\n",
              "          '<a target=\"_blank\" href=https://colab.research.google.com/notebooks/data_table.ipynb>data table notebook</a>'\n",
              "          + ' to learn more about interactive tables.';\n",
              "        element.innerHTML = '';\n",
              "        dataTable['output_type'] = 'display_data';\n",
              "        await google.colab.output.renderOutput(dataTable, element);\n",
              "        const docLink = document.createElement('div');\n",
              "        docLink.innerHTML = docLinkHtml;\n",
              "        element.appendChild(docLink);\n",
              "      }\n",
              "    </script>\n",
              "  </div>\n",
              "\n",
              "\n",
              "<div id=\"df-2a19cb3b-f12f-4b71-9d47-aca037a66944\">\n",
              "  <button class=\"colab-df-quickchart\" onclick=\"quickchart('df-2a19cb3b-f12f-4b71-9d47-aca037a66944')\"\n",
              "            title=\"Suggest charts\"\n",
              "            style=\"display:none;\">\n",
              "\n",
              "<svg xmlns=\"http://www.w3.org/2000/svg\" height=\"24px\"viewBox=\"0 0 24 24\"\n",
              "     width=\"24px\">\n",
              "    <g>\n",
              "        <path d=\"M19 3H5c-1.1 0-2 .9-2 2v14c0 1.1.9 2 2 2h14c1.1 0 2-.9 2-2V5c0-1.1-.9-2-2-2zM9 17H7v-7h2v7zm4 0h-2V7h2v10zm4 0h-2v-4h2v4z\"/>\n",
              "    </g>\n",
              "</svg>\n",
              "  </button>\n",
              "\n",
              "<style>\n",
              "  .colab-df-quickchart {\n",
              "      --bg-color: #E8F0FE;\n",
              "      --fill-color: #1967D2;\n",
              "      --hover-bg-color: #E2EBFA;\n",
              "      --hover-fill-color: #174EA6;\n",
              "      --disabled-fill-color: #AAA;\n",
              "      --disabled-bg-color: #DDD;\n",
              "  }\n",
              "\n",
              "  [theme=dark] .colab-df-quickchart {\n",
              "      --bg-color: #3B4455;\n",
              "      --fill-color: #D2E3FC;\n",
              "      --hover-bg-color: #434B5C;\n",
              "      --hover-fill-color: #FFFFFF;\n",
              "      --disabled-bg-color: #3B4455;\n",
              "      --disabled-fill-color: #666;\n",
              "  }\n",
              "\n",
              "  .colab-df-quickchart {\n",
              "    background-color: var(--bg-color);\n",
              "    border: none;\n",
              "    border-radius: 50%;\n",
              "    cursor: pointer;\n",
              "    display: none;\n",
              "    fill: var(--fill-color);\n",
              "    height: 32px;\n",
              "    padding: 0;\n",
              "    width: 32px;\n",
              "  }\n",
              "\n",
              "  .colab-df-quickchart:hover {\n",
              "    background-color: var(--hover-bg-color);\n",
              "    box-shadow: 0 1px 2px rgba(60, 64, 67, 0.3), 0 1px 3px 1px rgba(60, 64, 67, 0.15);\n",
              "    fill: var(--button-hover-fill-color);\n",
              "  }\n",
              "\n",
              "  .colab-df-quickchart-complete:disabled,\n",
              "  .colab-df-quickchart-complete:disabled:hover {\n",
              "    background-color: var(--disabled-bg-color);\n",
              "    fill: var(--disabled-fill-color);\n",
              "    box-shadow: none;\n",
              "  }\n",
              "\n",
              "  .colab-df-spinner {\n",
              "    border: 2px solid var(--fill-color);\n",
              "    border-color: transparent;\n",
              "    border-bottom-color: var(--fill-color);\n",
              "    animation:\n",
              "      spin 1s steps(1) infinite;\n",
              "  }\n",
              "\n",
              "  @keyframes spin {\n",
              "    0% {\n",
              "      border-color: transparent;\n",
              "      border-bottom-color: var(--fill-color);\n",
              "      border-left-color: var(--fill-color);\n",
              "    }\n",
              "    20% {\n",
              "      border-color: transparent;\n",
              "      border-left-color: var(--fill-color);\n",
              "      border-top-color: var(--fill-color);\n",
              "    }\n",
              "    30% {\n",
              "      border-color: transparent;\n",
              "      border-left-color: var(--fill-color);\n",
              "      border-top-color: var(--fill-color);\n",
              "      border-right-color: var(--fill-color);\n",
              "    }\n",
              "    40% {\n",
              "      border-color: transparent;\n",
              "      border-right-color: var(--fill-color);\n",
              "      border-top-color: var(--fill-color);\n",
              "    }\n",
              "    60% {\n",
              "      border-color: transparent;\n",
              "      border-right-color: var(--fill-color);\n",
              "    }\n",
              "    80% {\n",
              "      border-color: transparent;\n",
              "      border-right-color: var(--fill-color);\n",
              "      border-bottom-color: var(--fill-color);\n",
              "    }\n",
              "    90% {\n",
              "      border-color: transparent;\n",
              "      border-bottom-color: var(--fill-color);\n",
              "    }\n",
              "  }\n",
              "</style>\n",
              "\n",
              "  <script>\n",
              "    async function quickchart(key) {\n",
              "      const quickchartButtonEl =\n",
              "        document.querySelector('#' + key + ' button');\n",
              "      quickchartButtonEl.disabled = true;  // To prevent multiple clicks.\n",
              "      quickchartButtonEl.classList.add('colab-df-spinner');\n",
              "      try {\n",
              "        const charts = await google.colab.kernel.invokeFunction(\n",
              "            'suggestCharts', [key], {});\n",
              "      } catch (error) {\n",
              "        console.error('Error during call to suggestCharts:', error);\n",
              "      }\n",
              "      quickchartButtonEl.classList.remove('colab-df-spinner');\n",
              "      quickchartButtonEl.classList.add('colab-df-quickchart-complete');\n",
              "    }\n",
              "    (() => {\n",
              "      let quickchartButtonEl =\n",
              "        document.querySelector('#df-2a19cb3b-f12f-4b71-9d47-aca037a66944 button');\n",
              "      quickchartButtonEl.style.display =\n",
              "        google.colab.kernel.accessAllowed ? 'block' : 'none';\n",
              "    })();\n",
              "  </script>\n",
              "</div>\n",
              "\n",
              "    </div>\n",
              "  </div>\n"
            ],
            "application/vnd.google.colaboratory.intrinsic+json": {
              "type": "dataframe",
              "variable_name": "train",
              "summary": "{\n  \"name\": \"train\",\n  \"rows\": 24063,\n  \"fields\": [\n    {\n      \"column\": \"Contenido\",\n      \"properties\": {\n        \"dtype\": \"string\",\n        \"num_unique_values\": 24014,\n        \"samples\": [\n          \"#SangSom #ZAAPPARTY #NganSaiSilp #\\u0e07\\u0e32\\u0e19\\u0e2a\\u0e32\\u0e22\\u0e28\\u0e34\\u0e25\\u0e1b\\u0e4c\",\n          \"\\u0e40\\u0e14\\u0e47\\u0e01\\u0e22\\u0e31\\u0e07\\u0e44\\u0e21\\u0e48\\u0e2b\\u0e21\\u0e14\",\n          \"\\u0e43\\u0e0a\\u0e48\\u0e04\\u0e48\\u0e30 \\u0e17\\u0e35\\u0e48\\u0e2a\\u0e39\\u0e1a\\u0e1a\\u0e38\\u0e2b\\u0e23\\u0e35\\u0e48\\u0e44\\u0e1f\\u0e1f\\u0e49\\u0e32\\u0e40\\u0e1e\\u0e23\\u0e32\\u0e30\\u0e04\\u0e27\\u0e31\\u0e19\\u0e04\\u0e48\\u0e30 \\u0e1a\\u0e38\\u0e2b\\u0e23\\u0e35\\u0e48\\u0e08\\u0e23\\u0e34\\u0e07\\u0e44\\u0e21\\u0e48\\u0e41\\u0e15\\u0e30\\u0e04\\u0e48\\u0e30 #\\u0e2a\\u0e32\\u0e27Vapor \\ud83d\\ude09\"\n        ],\n        \"semantic_type\": \"\",\n        \"description\": \"\"\n      }\n    },\n    {\n      \"column\": \"Label\",\n      \"properties\": {\n        \"dtype\": \"category\",\n        \"num_unique_values\": 4,\n        \"samples\": [\n          \"neg\",\n          \"q\",\n          \"neu\"\n        ],\n        \"semantic_type\": \"\",\n        \"description\": \"\"\n      }\n    }\n  ]\n}"
            }
          },
          "metadata": {},
          "execution_count": 9
        }
      ]
    },
    {
      "cell_type": "code",
      "source": [
        "train['Label'].value_counts()"
      ],
      "metadata": {
        "colab": {
          "base_uri": "https://localhost:8080/",
          "height": 241
        },
        "id": "5GLIM_ncrSyN",
        "outputId": "32e9ef45-0080-442a-ad4f-88d762319655"
      },
      "execution_count": 67,
      "outputs": [
        {
          "output_type": "execute_result",
          "data": {
            "text/plain": [
              "Label\n",
              "neu    13105\n",
              "neg     6140\n",
              "pos     4300\n",
              "q        518\n",
              "Name: count, dtype: int64"
            ],
            "text/html": [
              "<div>\n",
              "<style scoped>\n",
              "    .dataframe tbody tr th:only-of-type {\n",
              "        vertical-align: middle;\n",
              "    }\n",
              "\n",
              "    .dataframe tbody tr th {\n",
              "        vertical-align: top;\n",
              "    }\n",
              "\n",
              "    .dataframe thead th {\n",
              "        text-align: right;\n",
              "    }\n",
              "</style>\n",
              "<table border=\"1\" class=\"dataframe\">\n",
              "  <thead>\n",
              "    <tr style=\"text-align: right;\">\n",
              "      <th></th>\n",
              "      <th>count</th>\n",
              "    </tr>\n",
              "    <tr>\n",
              "      <th>Label</th>\n",
              "      <th></th>\n",
              "    </tr>\n",
              "  </thead>\n",
              "  <tbody>\n",
              "    <tr>\n",
              "      <th>neu</th>\n",
              "      <td>13105</td>\n",
              "    </tr>\n",
              "    <tr>\n",
              "      <th>neg</th>\n",
              "      <td>6140</td>\n",
              "    </tr>\n",
              "    <tr>\n",
              "      <th>pos</th>\n",
              "      <td>4300</td>\n",
              "    </tr>\n",
              "    <tr>\n",
              "      <th>q</th>\n",
              "      <td>518</td>\n",
              "    </tr>\n",
              "  </tbody>\n",
              "</table>\n",
              "</div><br><label><b>dtype:</b> int64</label>"
            ]
          },
          "metadata": {},
          "execution_count": 67
        }
      ]
    },
    {
      "cell_type": "code",
      "source": [
        "test['Label'].value_counts()"
      ],
      "metadata": {
        "colab": {
          "base_uri": "https://localhost:8080/",
          "height": 241
        },
        "id": "v19mFF65r6ye",
        "outputId": "bf04bc00-ed64-4ab5-c532-5352601b0cea"
      },
      "execution_count": null,
      "outputs": [
        {
          "output_type": "execute_result",
          "data": {
            "text/plain": [
              "Label\n",
              "neu    1456\n",
              "neg     683\n",
              "pos     478\n",
              "q        57\n",
              "Name: count, dtype: int64"
            ],
            "text/html": [
              "<div>\n",
              "<style scoped>\n",
              "    .dataframe tbody tr th:only-of-type {\n",
              "        vertical-align: middle;\n",
              "    }\n",
              "\n",
              "    .dataframe tbody tr th {\n",
              "        vertical-align: top;\n",
              "    }\n",
              "\n",
              "    .dataframe thead th {\n",
              "        text-align: right;\n",
              "    }\n",
              "</style>\n",
              "<table border=\"1\" class=\"dataframe\">\n",
              "  <thead>\n",
              "    <tr style=\"text-align: right;\">\n",
              "      <th></th>\n",
              "      <th>count</th>\n",
              "    </tr>\n",
              "    <tr>\n",
              "      <th>Label</th>\n",
              "      <th></th>\n",
              "    </tr>\n",
              "  </thead>\n",
              "  <tbody>\n",
              "    <tr>\n",
              "      <th>neu</th>\n",
              "      <td>1456</td>\n",
              "    </tr>\n",
              "    <tr>\n",
              "      <th>neg</th>\n",
              "      <td>683</td>\n",
              "    </tr>\n",
              "    <tr>\n",
              "      <th>pos</th>\n",
              "      <td>478</td>\n",
              "    </tr>\n",
              "    <tr>\n",
              "      <th>q</th>\n",
              "      <td>57</td>\n",
              "    </tr>\n",
              "  </tbody>\n",
              "</table>\n",
              "</div><br><label><b>dtype:</b> int64</label>"
            ]
          },
          "metadata": {},
          "execution_count": 41
        }
      ]
    },
    {
      "cell_type": "code",
      "source": [
        "train = train[train['Label'].isin(['pos', 'neg'])].reset_index(drop=True)\n",
        "test = test[test['Label'].isin(['pos', 'neg'])].reset_index(drop=True)"
      ],
      "metadata": {
        "id": "yWzllUMQruzd"
      },
      "execution_count": 179,
      "outputs": []
    },
    {
      "cell_type": "markdown",
      "source": [
        "## Balanceo de datos"
      ],
      "metadata": {
        "id": "dUUCfNKsFalF"
      }
    },
    {
      "cell_type": "code",
      "source": [
        "from imblearn.under_sampling import RandomUnderSampler"
      ],
      "metadata": {
        "id": "pGrRuQi3F09K"
      },
      "execution_count": 180,
      "outputs": []
    },
    {
      "cell_type": "code",
      "source": [
        "X_train = train.drop(columns=['Label'])\n",
        "y_train = train['Label']\n",
        "\n",
        "rus = RandomUnderSampler(random_state=42)\n",
        "X_resampled, y_resampled = rus.fit_resample(X_train, y_train)\n",
        "\n",
        "train_resampled = pd.concat([pd.DataFrame(X_resampled, columns=X_train.columns), pd.DataFrame(y_resampled, columns=['Label'])], axis=1)\n"
      ],
      "metadata": {
        "id": "1KAdmohWFei6"
      },
      "execution_count": 181,
      "outputs": []
    },
    {
      "cell_type": "code",
      "source": [
        "train_resampled['Label'].value_counts()"
      ],
      "metadata": {
        "colab": {
          "base_uri": "https://localhost:8080/",
          "height": 178
        },
        "id": "UZ7L4jV0GDCF",
        "outputId": "4ddd52c6-f410-4018-acc0-81c05a0d60b1"
      },
      "execution_count": 182,
      "outputs": [
        {
          "output_type": "execute_result",
          "data": {
            "text/plain": [
              "Label\n",
              "neg    4300\n",
              "pos    4300\n",
              "Name: count, dtype: int64"
            ],
            "text/html": [
              "<div>\n",
              "<style scoped>\n",
              "    .dataframe tbody tr th:only-of-type {\n",
              "        vertical-align: middle;\n",
              "    }\n",
              "\n",
              "    .dataframe tbody tr th {\n",
              "        vertical-align: top;\n",
              "    }\n",
              "\n",
              "    .dataframe thead th {\n",
              "        text-align: right;\n",
              "    }\n",
              "</style>\n",
              "<table border=\"1\" class=\"dataframe\">\n",
              "  <thead>\n",
              "    <tr style=\"text-align: right;\">\n",
              "      <th></th>\n",
              "      <th>count</th>\n",
              "    </tr>\n",
              "    <tr>\n",
              "      <th>Label</th>\n",
              "      <th></th>\n",
              "    </tr>\n",
              "  </thead>\n",
              "  <tbody>\n",
              "    <tr>\n",
              "      <th>neg</th>\n",
              "      <td>4300</td>\n",
              "    </tr>\n",
              "    <tr>\n",
              "      <th>pos</th>\n",
              "      <td>4300</td>\n",
              "    </tr>\n",
              "  </tbody>\n",
              "</table>\n",
              "</div><br><label><b>dtype:</b> int64</label>"
            ]
          },
          "metadata": {},
          "execution_count": 182
        }
      ]
    },
    {
      "cell_type": "markdown",
      "source": [
        "## Pre procesamiento de datos\n",
        "\n",
        "### Eliminar emojis"
      ],
      "metadata": {
        "id": "JPKLpPMOGGMl"
      }
    },
    {
      "cell_type": "code",
      "source": [
        "def contiene_emoji(texto):\n",
        "    emoji_pattern = re.compile(\n",
        "        \"[\"\n",
        "        \"\\U0001F600-\\U0001F64F\"\n",
        "        \"\\U0001F300-\\U0001F5FF\"\n",
        "        \"\\U0001F680-\\U0001F6FF\"\n",
        "        \"\\U0001F1E0-\\U0001F1FF\"\n",
        "        \"\\U00002500-\\U00002BEF\"\n",
        "        \"\\U00002702-\\U000027B0\"\n",
        "        \"\\U000024C2-\\U0001F251\"\n",
        "        \"]+\", flags=re.UNICODE)\n",
        "    return bool(emoji_pattern.search(texto))\n",
        "\n",
        "train_resampled = train_resampled[~train_resampled[\"Contenido\"].apply(contiene_emoji)]\n",
        "test = test[~test[\"Contenido\"].apply(contiene_emoji)]\n",
        "\n",
        "train.head()"
      ],
      "metadata": {
        "colab": {
          "base_uri": "https://localhost:8080/",
          "height": 206
        },
        "id": "F-86a7wBKk7O",
        "outputId": "5eda996b-03ba-4a41-f88c-72fa5fef97e6"
      },
      "execution_count": 183,
      "outputs": [
        {
          "output_type": "execute_result",
          "data": {
            "text/plain": [
              "                                           Contenido Label\n",
              "0                        อิเหี้ยออมทำกูอยากกินเอ็มเค   neg\n",
              "1  เน็ตควายมากกูพูดจริงเสียดายตังค์ที่ติดตั้งเน็ต...   neg\n",
              "2             เหล้าเบลล์รสชาติเหี้ยสุด จะไม่แดกอีกละ   neg\n",
              "3                          สนใจ ฟอจูนเนอร์ สีขาวครับ   pos\n",
              "4  ลิปมันของเเบร์น Mistine ราคากลาง ๆ ไม่แพงมาก ร...   neg"
            ],
            "text/html": [
              "\n",
              "  <div id=\"df-611b3a2c-549d-4663-9fbc-fc2486609774\" class=\"colab-df-container\">\n",
              "    <div>\n",
              "<style scoped>\n",
              "    .dataframe tbody tr th:only-of-type {\n",
              "        vertical-align: middle;\n",
              "    }\n",
              "\n",
              "    .dataframe tbody tr th {\n",
              "        vertical-align: top;\n",
              "    }\n",
              "\n",
              "    .dataframe thead th {\n",
              "        text-align: right;\n",
              "    }\n",
              "</style>\n",
              "<table border=\"1\" class=\"dataframe\">\n",
              "  <thead>\n",
              "    <tr style=\"text-align: right;\">\n",
              "      <th></th>\n",
              "      <th>Contenido</th>\n",
              "      <th>Label</th>\n",
              "    </tr>\n",
              "  </thead>\n",
              "  <tbody>\n",
              "    <tr>\n",
              "      <th>0</th>\n",
              "      <td>อิเหี้ยออมทำกูอยากกินเอ็มเค</td>\n",
              "      <td>neg</td>\n",
              "    </tr>\n",
              "    <tr>\n",
              "      <th>1</th>\n",
              "      <td>เน็ตควายมากกูพูดจริงเสียดายตังค์ที่ติดตั้งเน็ต...</td>\n",
              "      <td>neg</td>\n",
              "    </tr>\n",
              "    <tr>\n",
              "      <th>2</th>\n",
              "      <td>เหล้าเบลล์รสชาติเหี้ยสุด จะไม่แดกอีกละ</td>\n",
              "      <td>neg</td>\n",
              "    </tr>\n",
              "    <tr>\n",
              "      <th>3</th>\n",
              "      <td>สนใจ ฟอจูนเนอร์ สีขาวครับ</td>\n",
              "      <td>pos</td>\n",
              "    </tr>\n",
              "    <tr>\n",
              "      <th>4</th>\n",
              "      <td>ลิปมันของเเบร์น Mistine ราคากลาง ๆ ไม่แพงมาก ร...</td>\n",
              "      <td>neg</td>\n",
              "    </tr>\n",
              "  </tbody>\n",
              "</table>\n",
              "</div>\n",
              "    <div class=\"colab-df-buttons\">\n",
              "\n",
              "  <div class=\"colab-df-container\">\n",
              "    <button class=\"colab-df-convert\" onclick=\"convertToInteractive('df-611b3a2c-549d-4663-9fbc-fc2486609774')\"\n",
              "            title=\"Convert this dataframe to an interactive table.\"\n",
              "            style=\"display:none;\">\n",
              "\n",
              "  <svg xmlns=\"http://www.w3.org/2000/svg\" height=\"24px\" viewBox=\"0 -960 960 960\">\n",
              "    <path d=\"M120-120v-720h720v720H120Zm60-500h600v-160H180v160Zm220 220h160v-160H400v160Zm0 220h160v-160H400v160ZM180-400h160v-160H180v160Zm440 0h160v-160H620v160ZM180-180h160v-160H180v160Zm440 0h160v-160H620v160Z\"/>\n",
              "  </svg>\n",
              "    </button>\n",
              "\n",
              "  <style>\n",
              "    .colab-df-container {\n",
              "      display:flex;\n",
              "      gap: 12px;\n",
              "    }\n",
              "\n",
              "    .colab-df-convert {\n",
              "      background-color: #E8F0FE;\n",
              "      border: none;\n",
              "      border-radius: 50%;\n",
              "      cursor: pointer;\n",
              "      display: none;\n",
              "      fill: #1967D2;\n",
              "      height: 32px;\n",
              "      padding: 0 0 0 0;\n",
              "      width: 32px;\n",
              "    }\n",
              "\n",
              "    .colab-df-convert:hover {\n",
              "      background-color: #E2EBFA;\n",
              "      box-shadow: 0px 1px 2px rgba(60, 64, 67, 0.3), 0px 1px 3px 1px rgba(60, 64, 67, 0.15);\n",
              "      fill: #174EA6;\n",
              "    }\n",
              "\n",
              "    .colab-df-buttons div {\n",
              "      margin-bottom: 4px;\n",
              "    }\n",
              "\n",
              "    [theme=dark] .colab-df-convert {\n",
              "      background-color: #3B4455;\n",
              "      fill: #D2E3FC;\n",
              "    }\n",
              "\n",
              "    [theme=dark] .colab-df-convert:hover {\n",
              "      background-color: #434B5C;\n",
              "      box-shadow: 0px 1px 3px 1px rgba(0, 0, 0, 0.15);\n",
              "      filter: drop-shadow(0px 1px 2px rgba(0, 0, 0, 0.3));\n",
              "      fill: #FFFFFF;\n",
              "    }\n",
              "  </style>\n",
              "\n",
              "    <script>\n",
              "      const buttonEl =\n",
              "        document.querySelector('#df-611b3a2c-549d-4663-9fbc-fc2486609774 button.colab-df-convert');\n",
              "      buttonEl.style.display =\n",
              "        google.colab.kernel.accessAllowed ? 'block' : 'none';\n",
              "\n",
              "      async function convertToInteractive(key) {\n",
              "        const element = document.querySelector('#df-611b3a2c-549d-4663-9fbc-fc2486609774');\n",
              "        const dataTable =\n",
              "          await google.colab.kernel.invokeFunction('convertToInteractive',\n",
              "                                                    [key], {});\n",
              "        if (!dataTable) return;\n",
              "\n",
              "        const docLinkHtml = 'Like what you see? Visit the ' +\n",
              "          '<a target=\"_blank\" href=https://colab.research.google.com/notebooks/data_table.ipynb>data table notebook</a>'\n",
              "          + ' to learn more about interactive tables.';\n",
              "        element.innerHTML = '';\n",
              "        dataTable['output_type'] = 'display_data';\n",
              "        await google.colab.output.renderOutput(dataTable, element);\n",
              "        const docLink = document.createElement('div');\n",
              "        docLink.innerHTML = docLinkHtml;\n",
              "        element.appendChild(docLink);\n",
              "      }\n",
              "    </script>\n",
              "  </div>\n",
              "\n",
              "\n",
              "<div id=\"df-205a933a-76b9-41dc-8664-9c32a7c08594\">\n",
              "  <button class=\"colab-df-quickchart\" onclick=\"quickchart('df-205a933a-76b9-41dc-8664-9c32a7c08594')\"\n",
              "            title=\"Suggest charts\"\n",
              "            style=\"display:none;\">\n",
              "\n",
              "<svg xmlns=\"http://www.w3.org/2000/svg\" height=\"24px\"viewBox=\"0 0 24 24\"\n",
              "     width=\"24px\">\n",
              "    <g>\n",
              "        <path d=\"M19 3H5c-1.1 0-2 .9-2 2v14c0 1.1.9 2 2 2h14c1.1 0 2-.9 2-2V5c0-1.1-.9-2-2-2zM9 17H7v-7h2v7zm4 0h-2V7h2v10zm4 0h-2v-4h2v4z\"/>\n",
              "    </g>\n",
              "</svg>\n",
              "  </button>\n",
              "\n",
              "<style>\n",
              "  .colab-df-quickchart {\n",
              "      --bg-color: #E8F0FE;\n",
              "      --fill-color: #1967D2;\n",
              "      --hover-bg-color: #E2EBFA;\n",
              "      --hover-fill-color: #174EA6;\n",
              "      --disabled-fill-color: #AAA;\n",
              "      --disabled-bg-color: #DDD;\n",
              "  }\n",
              "\n",
              "  [theme=dark] .colab-df-quickchart {\n",
              "      --bg-color: #3B4455;\n",
              "      --fill-color: #D2E3FC;\n",
              "      --hover-bg-color: #434B5C;\n",
              "      --hover-fill-color: #FFFFFF;\n",
              "      --disabled-bg-color: #3B4455;\n",
              "      --disabled-fill-color: #666;\n",
              "  }\n",
              "\n",
              "  .colab-df-quickchart {\n",
              "    background-color: var(--bg-color);\n",
              "    border: none;\n",
              "    border-radius: 50%;\n",
              "    cursor: pointer;\n",
              "    display: none;\n",
              "    fill: var(--fill-color);\n",
              "    height: 32px;\n",
              "    padding: 0;\n",
              "    width: 32px;\n",
              "  }\n",
              "\n",
              "  .colab-df-quickchart:hover {\n",
              "    background-color: var(--hover-bg-color);\n",
              "    box-shadow: 0 1px 2px rgba(60, 64, 67, 0.3), 0 1px 3px 1px rgba(60, 64, 67, 0.15);\n",
              "    fill: var(--button-hover-fill-color);\n",
              "  }\n",
              "\n",
              "  .colab-df-quickchart-complete:disabled,\n",
              "  .colab-df-quickchart-complete:disabled:hover {\n",
              "    background-color: var(--disabled-bg-color);\n",
              "    fill: var(--disabled-fill-color);\n",
              "    box-shadow: none;\n",
              "  }\n",
              "\n",
              "  .colab-df-spinner {\n",
              "    border: 2px solid var(--fill-color);\n",
              "    border-color: transparent;\n",
              "    border-bottom-color: var(--fill-color);\n",
              "    animation:\n",
              "      spin 1s steps(1) infinite;\n",
              "  }\n",
              "\n",
              "  @keyframes spin {\n",
              "    0% {\n",
              "      border-color: transparent;\n",
              "      border-bottom-color: var(--fill-color);\n",
              "      border-left-color: var(--fill-color);\n",
              "    }\n",
              "    20% {\n",
              "      border-color: transparent;\n",
              "      border-left-color: var(--fill-color);\n",
              "      border-top-color: var(--fill-color);\n",
              "    }\n",
              "    30% {\n",
              "      border-color: transparent;\n",
              "      border-left-color: var(--fill-color);\n",
              "      border-top-color: var(--fill-color);\n",
              "      border-right-color: var(--fill-color);\n",
              "    }\n",
              "    40% {\n",
              "      border-color: transparent;\n",
              "      border-right-color: var(--fill-color);\n",
              "      border-top-color: var(--fill-color);\n",
              "    }\n",
              "    60% {\n",
              "      border-color: transparent;\n",
              "      border-right-color: var(--fill-color);\n",
              "    }\n",
              "    80% {\n",
              "      border-color: transparent;\n",
              "      border-right-color: var(--fill-color);\n",
              "      border-bottom-color: var(--fill-color);\n",
              "    }\n",
              "    90% {\n",
              "      border-color: transparent;\n",
              "      border-bottom-color: var(--fill-color);\n",
              "    }\n",
              "  }\n",
              "</style>\n",
              "\n",
              "  <script>\n",
              "    async function quickchart(key) {\n",
              "      const quickchartButtonEl =\n",
              "        document.querySelector('#' + key + ' button');\n",
              "      quickchartButtonEl.disabled = true;  // To prevent multiple clicks.\n",
              "      quickchartButtonEl.classList.add('colab-df-spinner');\n",
              "      try {\n",
              "        const charts = await google.colab.kernel.invokeFunction(\n",
              "            'suggestCharts', [key], {});\n",
              "      } catch (error) {\n",
              "        console.error('Error during call to suggestCharts:', error);\n",
              "      }\n",
              "      quickchartButtonEl.classList.remove('colab-df-spinner');\n",
              "      quickchartButtonEl.classList.add('colab-df-quickchart-complete');\n",
              "    }\n",
              "    (() => {\n",
              "      let quickchartButtonEl =\n",
              "        document.querySelector('#df-205a933a-76b9-41dc-8664-9c32a7c08594 button');\n",
              "      quickchartButtonEl.style.display =\n",
              "        google.colab.kernel.accessAllowed ? 'block' : 'none';\n",
              "    })();\n",
              "  </script>\n",
              "</div>\n",
              "\n",
              "    </div>\n",
              "  </div>\n"
            ],
            "application/vnd.google.colaboratory.intrinsic+json": {
              "type": "dataframe",
              "variable_name": "train",
              "summary": "{\n  \"name\": \"train\",\n  \"rows\": 10440,\n  \"fields\": [\n    {\n      \"column\": \"Contenido\",\n      \"properties\": {\n        \"dtype\": \"string\",\n        \"num_unique_values\": 10428,\n        \"samples\": [\n          \"\\u0e40\\u0e2d\\u0e21\\u0e40\\u0e04 \\u0e25\\u0e37\\u0e21\\u0e19\\u0e49\\u0e33\\u0e08\\u0e34\\u0e49\\u0e21\\u0e40\\u0e14\\u0e47\\u0e01\\u0e2d\\u0e35\\u0e01\\u0e41\\u0e25\\u0e49\\u0e27 \\u0e40\\u0e2a\\u0e35\\u0e22\\u0e43\\u0e08\\u0e08\\u0e08\\u0e08 \\u0e01\\u0e25\\u0e31\\u0e1a\\u0e21\\u0e32\\u0e44\\u0e17\\u0e22\\u0e17\\u0e38\\u0e01\\u0e23\\u0e2d\\u0e1a\\u0e2a\\u0e31\\u0e48\\u0e07\\u0e21\\u0e32\\u0e01\\u0e34\\u0e19\\u0e1a\\u0e49\\u0e32\\u0e19 \\u0e25\\u0e37\\u0e21\\u0e17\\u0e38\\u0e01\\u0e23\\u0e2d\\u0e1a \\u0e2e\\u0e37\\u0e2d\\u0e2d \\u0e19\\u0e35\\u0e48\\u0e22\\u0e49\\u0e33\\u0e21\\u0e32\\u0e01\\u0e19\\u0e30\",\n          \"\\u0e21\\u0e31\\u0e48\\u0e19\\u0e43\\u0e08\\u0e01\\u0e31\\u0e1a\\u0e01\\u0e32\\u0e23\\u0e02\\u0e31\\u0e1a\\u0e02\\u0e35\\u0e48\\u0e22\\u0e32\\u0e21\\u0e04\\u0e48\\u0e33\\u0e04\\u0e37\\u0e19 \\u0e17\\u0e35\\u0e48\\u0e04\\u0e38\\u0e13\\u0e44\\u0e23\\u0e49\\u0e01\\u0e31\\u0e07\\u0e27\\u0e25\\u0e01\\u0e32\\u0e23\\u0e43\\u0e0a\\u0e49\\u0e07\\u0e32\\u0e19\\u0e44\\u0e1f\\u0e2a\\u0e39\\u0e07\\u0e41\\u0e1a\\u0e1a Adaptive LED Headlamps \\u0e1b\\u0e23\\u0e31\\u0e1a\\u0e23\\u0e30\\u0e14\\u0e31\\u0e1a\\u0e2a\\u0e39\\u0e07\\u0e15\\u0e48\\u0e33\\u0e2d\\u0e31\\u0e15\\u0e42\\u0e19\\u0e21\\u0e31\\u0e15\\u0e34 #AdaptiveLEDHeadlamps #ALLNEWMAZDACX5 #MazdaCG #MazdaCGThailand #MazdaThailand\",\n          \"\\u0e1e\\u0e23\\u0e38\\u0e48\\u0e07\\u0e19\\u0e35\\u0e49\\u0e25\\u0e49\\u0e32\\u0e07\\u0e17\\u0e49\\u0e2d\\u0e07\\u0e23\\u0e2d\\u0e40\\u0e25\\u0e22\\u0e19\\u0e30\"\n        ],\n        \"semantic_type\": \"\",\n        \"description\": \"\"\n      }\n    },\n    {\n      \"column\": \"Label\",\n      \"properties\": {\n        \"dtype\": \"category\",\n        \"num_unique_values\": 2,\n        \"samples\": [\n          \"pos\",\n          \"neg\"\n        ],\n        \"semantic_type\": \"\",\n        \"description\": \"\"\n      }\n    }\n  ]\n}"
            }
          },
          "metadata": {},
          "execution_count": 183
        }
      ]
    },
    {
      "cell_type": "code",
      "source": [
        "train_resampled = train_resampled.rename(columns={'Contenido': 'Comment', 'Label': 'Sentiment'})\n",
        "test = test.rename(columns={'Contenido': 'Comment', 'Label': 'Sentiment'})"
      ],
      "metadata": {
        "id": "U-dZCeONXlJN"
      },
      "execution_count": 184,
      "outputs": []
    },
    {
      "cell_type": "code",
      "source": [
        "train_resampled['Category'] = train_resampled['Sentiment'].map({'neg': 0, 'pos': 1})\n",
        "test['Category'] = test['Sentiment'].map({'neg': 0, 'pos': 1})"
      ],
      "metadata": {
        "id": "ShtJvcELuIlY"
      },
      "execution_count": 185,
      "outputs": []
    },
    {
      "cell_type": "markdown",
      "source": [
        "### Tokenización"
      ],
      "metadata": {
        "id": "b5R_WRoLEtOA"
      }
    },
    {
      "cell_type": "code",
      "source": [
        "def tokenize_text(text):\n",
        "    tokens = []\n",
        "    for sent in nltk.sent_tokenize(text):\n",
        "        for word in nltk.word_tokenize(sent):\n",
        "            if len(word) <= 0:\n",
        "                continue\n",
        "            tokens.append(word.lower())\n",
        "    return tokens"
      ],
      "metadata": {
        "id": "5J8TQgp7BuYZ"
      },
      "execution_count": 186,
      "outputs": []
    },
    {
      "cell_type": "code",
      "source": [
        "X_train_full = train_resampled['Comment']\n",
        "Y_train_full = pd.get_dummies(train_resampled['Sentiment']).values\n",
        "\n",
        "X_test = test['Comment']\n",
        "Y_test = pd.get_dummies(test['Sentiment']).values\n",
        "\n",
        "X_train, X_val, Y_train, Y_val = train_test_split(X_train_full, Y_train_full, test_size=0.15, random_state=42)\n",
        "\n",
        "print(\"Tamaños:\")\n",
        "print(f\"X_train: {len(X_train)}, Y_train: {len(Y_train)}\")\n",
        "print(f\"X_val: {len(X_val)}, Y_val: {len(Y_val)}\")\n",
        "print(f\"X_test: {len(X_test)}, Y_test: {len(Y_test)}\")"
      ],
      "metadata": {
        "id": "ZPPihoyGBEwf",
        "colab": {
          "base_uri": "https://localhost:8080/"
        },
        "outputId": "2a2f89ae-5e6e-4dbc-d729-9eac8db89e00"
      },
      "execution_count": 187,
      "outputs": [
        {
          "output_type": "stream",
          "name": "stdout",
          "text": [
            "Tamaños:\n",
            "X_train: 6611, Y_train: 6611\n",
            "X_val: 1167, Y_val: 1167\n",
            "X_test: 1044, Y_test: 1044\n"
          ]
        }
      ]
    },
    {
      "cell_type": "code",
      "source": [
        "tokenizer = Tokenizer(num_words=5000)\n",
        "tokenizer.fit_on_texts(X_train)\n",
        "X_train_seq = pad_sequences(tokenizer.texts_to_sequences(X_train), maxlen=100)\n",
        "X_val_seq = pad_sequences(tokenizer.texts_to_sequences(X_val), maxlen=100)\n",
        "X_test_seq = pad_sequences(tokenizer.texts_to_sequences(X_test), maxlen=100)"
      ],
      "metadata": {
        "id": "HLn0veBjBGV8"
      },
      "execution_count": 188,
      "outputs": []
    },
    {
      "cell_type": "markdown",
      "source": [
        "## Construcción y Entrenamiento de Modelo LSTM"
      ],
      "metadata": {
        "id": "m0MHwsRn-qqx"
      }
    },
    {
      "cell_type": "code",
      "source": [
        "model = Sequential()\n",
        "model.add(Embedding(input_dim=5000, output_dim=128, input_length=100))\n",
        "model.add(LSTM(64))\n",
        "model.add(Dense(Y_train_full.shape[1], activation='softmax'))\n",
        "model.compile(loss='categorical_crossentropy', optimizer='adam', metrics=['accuracy'])"
      ],
      "metadata": {
        "id": "KzjC7XfmBiCV"
      },
      "execution_count": 189,
      "outputs": []
    },
    {
      "cell_type": "code",
      "source": [
        "history_lstm = None\n",
        "if os.path.exists('history_lstm.joblib'):\n",
        "    history_lstm = load('history_lstm.joblib')\n",
        "    print(\"El archivo 'history_lstm.joblib' ya existe. Se ha cargado el historial del entrenamiento.\")\n",
        "else:\n",
        "    history = model.fit(X_train_seq, Y_train, epochs=30, batch_size=32, verbose=2)\n",
        "    dump(history.history, 'history_lstm.joblib')\n",
        "    print(\"El entrenamiento se ha completado y el historial ha sido guardado en 'history_lstm.joblib'.\")"
      ],
      "metadata": {
        "colab": {
          "base_uri": "https://localhost:8080/"
        },
        "id": "SEX3CeCEAAf4",
        "outputId": "5d082550-dc48-44c3-c04b-23ab66cbbf94"
      },
      "execution_count": 190,
      "outputs": [
        {
          "output_type": "stream",
          "name": "stdout",
          "text": [
            "Epoch 1/30\n",
            "207/207 - 11s - loss: 0.6850 - accuracy: 0.5456 - 11s/epoch - 53ms/step\n",
            "Epoch 2/30\n",
            "207/207 - 9s - loss: 0.5630 - accuracy: 0.6751 - 9s/epoch - 43ms/step\n",
            "Epoch 3/30\n",
            "207/207 - 9s - loss: 0.4721 - accuracy: 0.7041 - 9s/epoch - 44ms/step\n",
            "Epoch 4/30\n",
            "207/207 - 9s - loss: 0.4481 - accuracy: 0.7061 - 9s/epoch - 43ms/step\n",
            "Epoch 5/30\n",
            "207/207 - 9s - loss: 0.4343 - accuracy: 0.7112 - 9s/epoch - 44ms/step\n",
            "Epoch 6/30\n",
            "207/207 - 9s - loss: 0.4241 - accuracy: 0.7176 - 9s/epoch - 43ms/step\n",
            "Epoch 7/30\n",
            "207/207 - 9s - loss: 0.4151 - accuracy: 0.7191 - 9s/epoch - 43ms/step\n",
            "Epoch 8/30\n",
            "207/207 - 9s - loss: 0.4090 - accuracy: 0.7282 - 9s/epoch - 43ms/step\n",
            "Epoch 9/30\n",
            "207/207 - 9s - loss: 0.4044 - accuracy: 0.7232 - 9s/epoch - 44ms/step\n",
            "Epoch 10/30\n",
            "207/207 - 9s - loss: 0.4010 - accuracy: 0.7229 - 9s/epoch - 43ms/step\n",
            "Epoch 11/30\n",
            "207/207 - 9s - loss: 0.3985 - accuracy: 0.7261 - 9s/epoch - 42ms/step\n",
            "Epoch 12/30\n",
            "207/207 - 9s - loss: 0.3940 - accuracy: 0.7259 - 9s/epoch - 43ms/step\n",
            "Epoch 13/30\n",
            "207/207 - 9s - loss: 0.3927 - accuracy: 0.7176 - 9s/epoch - 42ms/step\n",
            "Epoch 14/30\n",
            "207/207 - 9s - loss: 0.3904 - accuracy: 0.7268 - 9s/epoch - 43ms/step\n",
            "Epoch 15/30\n",
            "207/207 - 9s - loss: 0.3884 - accuracy: 0.7314 - 9s/epoch - 44ms/step\n",
            "Epoch 16/30\n",
            "207/207 - 9s - loss: 0.3869 - accuracy: 0.7246 - 9s/epoch - 44ms/step\n",
            "Epoch 17/30\n",
            "207/207 - 9s - loss: 0.3854 - accuracy: 0.7304 - 9s/epoch - 44ms/step\n",
            "Epoch 18/30\n",
            "207/207 - 9s - loss: 0.3851 - accuracy: 0.7262 - 9s/epoch - 44ms/step\n",
            "Epoch 19/30\n",
            "207/207 - 9s - loss: 0.3833 - accuracy: 0.7224 - 9s/epoch - 44ms/step\n",
            "Epoch 20/30\n",
            "207/207 - 9s - loss: 0.3823 - accuracy: 0.7339 - 9s/epoch - 42ms/step\n",
            "Epoch 21/30\n",
            "207/207 - 9s - loss: 0.3819 - accuracy: 0.7304 - 9s/epoch - 42ms/step\n",
            "Epoch 22/30\n",
            "207/207 - 9s - loss: 0.3812 - accuracy: 0.7326 - 9s/epoch - 42ms/step\n",
            "Epoch 23/30\n",
            "207/207 - 9s - loss: 0.3806 - accuracy: 0.7350 - 9s/epoch - 42ms/step\n",
            "Epoch 24/30\n",
            "207/207 - 9s - loss: 0.3803 - accuracy: 0.7288 - 9s/epoch - 43ms/step\n",
            "Epoch 25/30\n",
            "207/207 - 9s - loss: 0.3797 - accuracy: 0.7330 - 9s/epoch - 42ms/step\n",
            "Epoch 26/30\n",
            "207/207 - 9s - loss: 0.3945 - accuracy: 0.7217 - 9s/epoch - 44ms/step\n",
            "Epoch 27/30\n",
            "207/207 - 9s - loss: 0.3861 - accuracy: 0.7379 - 9s/epoch - 44ms/step\n",
            "Epoch 28/30\n",
            "207/207 - 9s - loss: 0.3802 - accuracy: 0.7335 - 9s/epoch - 43ms/step\n",
            "Epoch 29/30\n",
            "207/207 - 9s - loss: 0.3792 - accuracy: 0.7326 - 9s/epoch - 43ms/step\n",
            "Epoch 30/30\n",
            "207/207 - 9s - loss: 0.3788 - accuracy: 0.7267 - 9s/epoch - 43ms/step\n",
            "El entrenamiento se ha completado y el historial ha sido guardado en 'history_lstm.joblib'.\n"
          ]
        }
      ]
    },
    {
      "cell_type": "code",
      "source": [
        "plt.plot(history.history['accuracy'])\n",
        "plt.title('Model Accuracy')\n",
        "plt.ylabel('accuracy')\n",
        "plt.xlabel('epochs')\n",
        "plt.legend(['train', 'test'], loc='upper left');"
      ],
      "metadata": {
        "colab": {
          "base_uri": "https://localhost:8080/",
          "height": 472
        },
        "id": "mlgsHg_hDm10",
        "outputId": "76ad1979-4697-40b8-f98f-37400263a1e4"
      },
      "execution_count": 191,
      "outputs": [
        {
          "output_type": "display_data",
          "data": {
            "text/plain": [
              "<Figure size 640x480 with 1 Axes>"
            ],
            "image/png": "[encoded data removed]"
          },
          "metadata": {}
        }
      ]
    },
    {
      "cell_type": "markdown",
      "source": [
        "### Evaluación del Modelo LSTM"
      ],
      "metadata": {
        "id": "Phqrz4frFEg9"
      }
    },
    {
      "cell_type": "code",
      "source": [
        "plt.plot(history.history['loss']);\n",
        "plt.title('Model Loss');\n",
        "plt.ylabel('loss');\n",
        "plt.xlabel('epochs');\n",
        "plt.legend(['train', 'test'], loc='upper left');"
      ],
      "metadata": {
        "colab": {
          "base_uri": "https://localhost:8080/",
          "height": 472
        },
        "id": "YSzXZIQXDp8M",
        "outputId": "e3c8d97d-823b-4d91-8ab4-b6912e210ebd"
      },
      "execution_count": 192,
      "outputs": [
        {
          "output_type": "display_data",
          "data": {
            "text/plain": [
              "<Figure size 640x480 with 1 Axes>"
            ],
            "image/png": "[encoded data removed]"
          },
          "metadata": {}
        }
      ]
    },
    {
      "cell_type": "code",
      "source": [
        "_, train_acc = model.evaluate(X_train_seq, Y_train, verbose=2)\n",
        "_, test_acc = model.evaluate(X_test_seq, Y_test, verbose=2)\n",
        "print('Train: %.3f, Test: %.3f' % (train_acc, test_acc))\n",
        "print('Train: %.3f, Test: %.4f' % (train_acc, test_acc))"
      ],
      "metadata": {
        "colab": {
          "base_uri": "https://localhost:8080/"
        },
        "id": "gJAGS5TsDsFx",
        "outputId": "ad7bb71e-1ebc-499e-9a1f-410c4f00ba8c"
      },
      "execution_count": 193,
      "outputs": [
        {
          "output_type": "stream",
          "name": "stdout",
          "text": [
            "207/207 - 3s - loss: 0.3759 - accuracy: 0.7394 - 3s/epoch - 15ms/step\n",
            "33/33 - 0s - loss: 1.1488 - accuracy: 0.4943 - 465ms/epoch - 14ms/step\n",
            "Train: 0.739, Test: 0.494\n",
            "Train: 0.739, Test: 0.4943\n"
          ]
        }
      ]
    },
    {
      "cell_type": "code",
      "source": [
        "yhat_probs = model.predict(X_test_seq, verbose=0)\n",
        "yhat_classes = np.argmax(yhat_probs, axis=1)"
      ],
      "metadata": {
        "id": "HYENKIorEmkx"
      },
      "execution_count": 194,
      "outputs": []
    },
    {
      "cell_type": "code",
      "source": [
        "rounded_labels=np.argmax(Y_test, axis=1)"
      ],
      "metadata": {
        "id": "uc8q0pjwE1jc"
      },
      "execution_count": 195,
      "outputs": []
    },
    {
      "cell_type": "code",
      "source": [
        "from sklearn.metrics import confusion_matrix\n",
        "\n",
        "lstm_val = confusion_matrix(rounded_labels, yhat_classes)\n",
        "f, ax = plt.subplots(figsize=(5,5))\n",
        "sns.heatmap(lstm_val, annot=True, linewidth=0.7, linecolor='cyan', fmt='g', ax=ax, cmap=\"BuPu\")\n",
        "plt.title('LSTM Classification Confusion Matrix')\n",
        "plt.xlabel('Y predict')\n",
        "plt.ylabel('Y test')\n",
        "plt.show()"
      ],
      "metadata": {
        "colab": {
          "base_uri": "https://localhost:8080/",
          "height": 487
        },
        "id": "lbIoyuqzE2Io",
        "outputId": "8d1b6106-5124-4102-e812-de8f0116a66a"
      },
      "execution_count": 196,
      "outputs": [
        {
          "output_type": "display_data",
          "data": {
            "text/plain": [
              "<Figure size 500x500 with 2 Axes>"
            ],
            "image/png": "[encoded data removed]"
          },
          "metadata": {}
        }
      ]
    },
    {
      "cell_type": "code",
      "source": [
        "model.save('lstm_model.h5')"
      ],
      "metadata": {
        "id": "CIxk1QT2esHU"
      },
      "execution_count": 197,
      "outputs": []
    },
    {
      "cell_type": "markdown",
      "source": [
        "## Construcción y Evaluación del Modelo RNN"
      ],
      "metadata": {
        "id": "FmU3ExSUD7Ux"
      }
    },
    {
      "cell_type": "code",
      "source": [
        "model_RNN = Sequential()\n",
        "model_RNN.add(Embedding(input_dim=5000, output_dim=128, input_length=100))\n",
        "model_RNN.add(SimpleRNN(64))\n",
        "model_RNN.add(Dense(Y_train_full.shape[1], activation='softmax'))\n",
        "model_RNN.compile(loss='categorical_crossentropy', optimizer='adam', metrics=['accuracy'])"
      ],
      "metadata": {
        "id": "05VtrhB8D9uG"
      },
      "execution_count": 198,
      "outputs": []
    },
    {
      "cell_type": "code",
      "source": [
        "history_RNN = None\n",
        "if os.path.exists('history_RNN.joblib'):\n",
        "    history_RNN = load('history_RNN.joblib')\n",
        "    print(\"El archivo 'history_RNN.joblib' ya existe. Se ha cargado el historial del entrenamiento.\")\n",
        "else:\n",
        "    history_RNN = model_RNN.fit(X_train_seq, Y_train, epochs=30, batch_size=32, verbose=2)\n",
        "    dump(history.history, 'history_RNN.joblib')\n",
        "    print(\"El entrenamiento se ha completado y el historial ha sido guardado en 'history_RNN.joblib'.\")"
      ],
      "metadata": {
        "colab": {
          "base_uri": "https://localhost:8080/"
        },
        "id": "FojjAvFyEQYd",
        "outputId": "98785bcc-dde8-46f3-b025-f500f997215e"
      },
      "execution_count": 199,
      "outputs": [
        {
          "output_type": "stream",
          "name": "stdout",
          "text": [
            "Epoch 1/30\n",
            "207/207 - 7s - loss: 0.6832 - accuracy: 0.5359 - 7s/epoch - 32ms/step\n",
            "Epoch 2/30\n",
            "207/207 - 6s - loss: 0.5236 - accuracy: 0.7000 - 6s/epoch - 27ms/step\n",
            "Epoch 3/30\n",
            "207/207 - 6s - loss: 0.4315 - accuracy: 0.7173 - 6s/epoch - 27ms/step\n",
            "Epoch 4/30\n",
            "207/207 - 6s - loss: 0.4151 - accuracy: 0.7232 - 6s/epoch - 28ms/step\n",
            "Epoch 5/30\n",
            "207/207 - 6s - loss: 0.4056 - accuracy: 0.7282 - 6s/epoch - 28ms/step\n",
            "Epoch 6/30\n",
            "207/207 - 6s - loss: 0.4002 - accuracy: 0.7235 - 6s/epoch - 27ms/step\n",
            "Epoch 7/30\n",
            "207/207 - 6s - loss: 0.3975 - accuracy: 0.7295 - 6s/epoch - 27ms/step\n",
            "Epoch 8/30\n",
            "207/207 - 6s - loss: 0.3951 - accuracy: 0.7233 - 6s/epoch - 28ms/step\n",
            "Epoch 9/30\n",
            "207/207 - 6s - loss: 0.3939 - accuracy: 0.7288 - 6s/epoch - 27ms/step\n",
            "Epoch 10/30\n",
            "207/207 - 6s - loss: 0.3935 - accuracy: 0.7247 - 6s/epoch - 28ms/step\n",
            "Epoch 11/30\n",
            "207/207 - 6s - loss: 0.4841 - accuracy: 0.7056 - 6s/epoch - 27ms/step\n",
            "Epoch 12/30\n",
            "207/207 - 6s - loss: 0.4066 - accuracy: 0.7221 - 6s/epoch - 27ms/step\n",
            "Epoch 13/30\n",
            "207/207 - 6s - loss: 0.4014 - accuracy: 0.7306 - 6s/epoch - 28ms/step\n",
            "Epoch 14/30\n",
            "207/207 - 6s - loss: 0.3983 - accuracy: 0.7232 - 6s/epoch - 27ms/step\n",
            "Epoch 15/30\n",
            "207/207 - 6s - loss: 0.3952 - accuracy: 0.7194 - 6s/epoch - 28ms/step\n",
            "Epoch 16/30\n",
            "207/207 - 6s - loss: 0.3927 - accuracy: 0.7345 - 6s/epoch - 27ms/step\n",
            "Epoch 17/30\n",
            "207/207 - 6s - loss: 0.3916 - accuracy: 0.7277 - 6s/epoch - 27ms/step\n",
            "Epoch 18/30\n",
            "207/207 - 6s - loss: 0.3905 - accuracy: 0.7294 - 6s/epoch - 27ms/step\n",
            "Epoch 19/30\n",
            "207/207 - 6s - loss: 0.3896 - accuracy: 0.7289 - 6s/epoch - 28ms/step\n",
            "Epoch 20/30\n",
            "207/207 - 6s - loss: 0.3883 - accuracy: 0.7333 - 6s/epoch - 27ms/step\n",
            "Epoch 21/30\n",
            "207/207 - 6s - loss: 0.3905 - accuracy: 0.7227 - 6s/epoch - 28ms/step\n",
            "Epoch 22/30\n",
            "207/207 - 6s - loss: 0.3904 - accuracy: 0.7227 - 6s/epoch - 27ms/step\n",
            "Epoch 23/30\n",
            "207/207 - 6s - loss: 0.3894 - accuracy: 0.7292 - 6s/epoch - 28ms/step\n",
            "Epoch 24/30\n",
            "207/207 - 6s - loss: 0.3892 - accuracy: 0.7215 - 6s/epoch - 28ms/step\n",
            "Epoch 25/30\n",
            "207/207 - 6s - loss: 0.3883 - accuracy: 0.7289 - 6s/epoch - 28ms/step\n",
            "Epoch 26/30\n",
            "207/207 - 6s - loss: 0.3888 - accuracy: 0.7303 - 6s/epoch - 27ms/step\n",
            "Epoch 27/30\n",
            "207/207 - 6s - loss: 0.3883 - accuracy: 0.7242 - 6s/epoch - 28ms/step\n",
            "Epoch 28/30\n",
            "207/207 - 6s - loss: 0.3871 - accuracy: 0.7217 - 6s/epoch - 28ms/step\n",
            "Epoch 29/30\n",
            "207/207 - 6s - loss: 0.3852 - accuracy: 0.7264 - 6s/epoch - 28ms/step\n",
            "Epoch 30/30\n",
            "207/207 - 6s - loss: 0.3910 - accuracy: 0.7329 - 6s/epoch - 28ms/step\n",
            "El entrenamiento se ha completado y el historial ha sido guardado en 'history_RNN.joblib'.\n"
          ]
        }
      ]
    },
    {
      "cell_type": "markdown",
      "source": [
        "### Evaluación del Modelo RNN"
      ],
      "metadata": {
        "id": "y4O01IDUFPHj"
      }
    },
    {
      "cell_type": "code",
      "source": [
        "plt.plot(history_RNN.history['accuracy'])\n",
        "plt.title('Model Accuracy')\n",
        "plt.ylabel('accuracy')\n",
        "plt.xlabel('epochs')\n",
        "plt.legend(['train', 'test'], loc='upper left');"
      ],
      "metadata": {
        "colab": {
          "base_uri": "https://localhost:8080/",
          "height": 472
        },
        "id": "RW830sueEUE3",
        "outputId": "8cfa61a3-c527-4f99-c2c7-f8e9a15b94bc"
      },
      "execution_count": 200,
      "outputs": [
        {
          "output_type": "display_data",
          "data": {
            "text/plain": [
              "<Figure size 640x480 with 1 Axes>"
            ],
            "image/png": "[encoded data removed]"
          },
          "metadata": {}
        }
      ]
    },
    {
      "cell_type": "code",
      "source": [
        "_, train_acc = model_RNN.evaluate(X_train_seq, Y_train, verbose=2)\n",
        "_, test_acc = model_RNN.evaluate(X_test_seq, Y_test, verbose=2)\n",
        "print('Train: %.3f, Test: %.4f' % (train_acc, test_acc))"
      ],
      "metadata": {
        "colab": {
          "base_uri": "https://localhost:8080/"
        },
        "id": "HcEoV51AFSJS",
        "outputId": "f822c572-8acc-4078-cb4e-d2422a20469d"
      },
      "execution_count": 201,
      "outputs": [
        {
          "output_type": "stream",
          "name": "stdout",
          "text": [
            "207/207 - 2s - loss: 0.3820 - accuracy: 0.7376 - 2s/epoch - 7ms/step\n",
            "33/33 - 0s - loss: 0.8236 - accuracy: 0.4933 - 226ms/epoch - 7ms/step\n",
            "Train: 0.738, Test: 0.4933\n"
          ]
        }
      ]
    },
    {
      "cell_type": "code",
      "source": [
        "yhat_probs = model_RNN.predict(X_test_seq, verbose=0)\n",
        "yhat_classes = np.argmax(yhat_probs, axis=1)"
      ],
      "metadata": {
        "id": "aN0cUk5cFVmU"
      },
      "execution_count": 202,
      "outputs": []
    },
    {
      "cell_type": "code",
      "source": [
        "rounded_labels=np.argmax(Y_test, axis=1)"
      ],
      "metadata": {
        "id": "vzMB2rbCFeg0"
      },
      "execution_count": 203,
      "outputs": []
    },
    {
      "cell_type": "code",
      "source": [
        "RNN_val = confusion_matrix(rounded_labels, yhat_classes)\n",
        "f, ax = plt.subplots(figsize=(5,5))\n",
        "sns.heatmap(RNN_val, annot=True, linewidth=0.7, linecolor='cyan', fmt='g', ax=ax, cmap=\"BuPu\")\n",
        "plt.title('RNN Classification Confusion Matrix')\n",
        "plt.xlabel('Y predict')\n",
        "plt.ylabel('Y test')\n",
        "plt.show()"
      ],
      "metadata": {
        "colab": {
          "base_uri": "https://localhost:8080/",
          "height": 487
        },
        "id": "UC8rBNpnFhYo",
        "outputId": "ae5f3d0c-c24d-49de-f415-1b191461a8a2"
      },
      "execution_count": 204,
      "outputs": [
        {
          "output_type": "display_data",
          "data": {
            "text/plain": [
              "<Figure size 500x500 with 2 Axes>"
            ],
            "image/png": "[encoded data removed]"
          },
          "metadata": {}
        }
      ]
    },
    {
      "cell_type": "code",
      "source": [
        "model_RNN.save('RNN_model.h5')"
      ],
      "metadata": {
        "id": "hrErVKvbewhg"
      },
      "execution_count": 205,
      "outputs": []
    },
    {
      "cell_type": "markdown",
      "source": [
        "# Modelo Propuesto: LSTM y XGBOOST"
      ],
      "metadata": {
        "id": "h8WtUQCQEAeT"
      }
    },
    {
      "cell_type": "code",
      "source": [
        "model = Sequential()\n",
        "model.add(Embedding(input_dim=5000, output_dim=128, input_length=100))\n",
        "model.add(Bidirectional(LSTM(64)))\n",
        "model.add(Dense(Y_train_full.shape[1], activation='softmax'))\n",
        "model.compile(loss='categorical_crossentropy', optimizer='adam', metrics=['accuracy'], run_eagerly=True)"
      ],
      "metadata": {
        "id": "d7IaVcow0v__"
      },
      "execution_count": 206,
      "outputs": []
    },
    {
      "cell_type": "code",
      "source": [
        "history_lstm = None\n",
        "if os.path.exists('history_Modelo_Nuevo.joblib'):\n",
        "    history_lstm = load('history_Modelo_Nuevo.joblib')\n",
        "    print(\"El archivo 'history_Modelo_Nuevo.joblib' ya existe. Se ha cargado el historial del entrenamiento.\")\n",
        "else:\n",
        "    history = model.fit(X_train_seq, Y_train, epochs=30, batch_size=32, verbose=2)\n",
        "    dump(history.history, 'history_Modelo_Nuevo.joblib')\n",
        "    print(\"El entrenamiento se ha completado y el historial ha sido guardado en 'history_lstm.joblib'.\")"
      ],
      "metadata": {
        "colab": {
          "base_uri": "https://localhost:8080/"
        },
        "id": "SxKfYVE_A1Gj",
        "outputId": "94f45cd8-7d22-4f6e-d604-fabf2e139d0d"
      },
      "execution_count": 208,
      "outputs": [
        {
          "output_type": "stream",
          "name": "stdout",
          "text": [
            "Epoch 1/30\n",
            "207/207 - 126s - loss: 0.6852 - accuracy: 0.5402 - 126s/epoch - 609ms/step\n",
            "Epoch 2/30\n",
            "207/207 - 126s - loss: 0.5668 - accuracy: 0.6761 - 126s/epoch - 610ms/step\n",
            "Epoch 3/30\n",
            "207/207 - 126s - loss: 0.4743 - accuracy: 0.6973 - 126s/epoch - 608ms/step\n",
            "Epoch 4/30\n",
            "207/207 - 127s - loss: 0.4484 - accuracy: 0.7073 - 127s/epoch - 613ms/step\n",
            "Epoch 5/30\n",
            "207/207 - 127s - loss: 0.4335 - accuracy: 0.7159 - 127s/epoch - 612ms/step\n",
            "Epoch 6/30\n",
            "207/207 - 126s - loss: 0.4243 - accuracy: 0.7155 - 126s/epoch - 611ms/step\n",
            "Epoch 7/30\n",
            "207/207 - 126s - loss: 0.4194 - accuracy: 0.7161 - 126s/epoch - 611ms/step\n",
            "Epoch 8/30\n",
            "207/207 - 126s - loss: 0.4102 - accuracy: 0.7149 - 126s/epoch - 606ms/step\n",
            "Epoch 9/30\n",
            "207/207 - 125s - loss: 0.4039 - accuracy: 0.7286 - 125s/epoch - 604ms/step\n",
            "Epoch 10/30\n",
            "207/207 - 126s - loss: 0.4002 - accuracy: 0.7223 - 126s/epoch - 608ms/step\n",
            "Epoch 11/30\n",
            "207/207 - 126s - loss: 0.3962 - accuracy: 0.7279 - 126s/epoch - 609ms/step\n",
            "Epoch 12/30\n",
            "207/207 - 126s - loss: 0.3932 - accuracy: 0.7255 - 126s/epoch - 608ms/step\n",
            "Epoch 13/30\n",
            "207/207 - 126s - loss: 0.3914 - accuracy: 0.7330 - 126s/epoch - 607ms/step\n",
            "Epoch 14/30\n",
            "207/207 - 125s - loss: 0.3907 - accuracy: 0.7223 - 125s/epoch - 604ms/step\n",
            "Epoch 15/30\n",
            "207/207 - 126s - loss: 0.3888 - accuracy: 0.7274 - 126s/epoch - 610ms/step\n",
            "Epoch 16/30\n",
            "207/207 - 127s - loss: 0.3904 - accuracy: 0.7274 - 127s/epoch - 611ms/step\n",
            "Epoch 17/30\n",
            "207/207 - 126s - loss: 0.3873 - accuracy: 0.7226 - 126s/epoch - 608ms/step\n",
            "Epoch 18/30\n",
            "207/207 - 127s - loss: 0.3854 - accuracy: 0.7306 - 127s/epoch - 613ms/step\n",
            "Epoch 19/30\n",
            "207/207 - 126s - loss: 0.3834 - accuracy: 0.7291 - 126s/epoch - 609ms/step\n",
            "Epoch 20/30\n",
            "207/207 - 125s - loss: 0.3830 - accuracy: 0.7314 - 125s/epoch - 604ms/step\n",
            "Epoch 21/30\n",
            "207/207 - 126s - loss: 0.3825 - accuracy: 0.7259 - 126s/epoch - 611ms/step\n",
            "Epoch 22/30\n",
            "207/207 - 126s - loss: 0.3816 - accuracy: 0.7279 - 126s/epoch - 609ms/step\n",
            "Epoch 23/30\n",
            "207/207 - 127s - loss: 0.3813 - accuracy: 0.7317 - 127s/epoch - 615ms/step\n",
            "Epoch 24/30\n",
            "207/207 - 126s - loss: 0.3807 - accuracy: 0.7312 - 126s/epoch - 609ms/step\n",
            "Epoch 25/30\n",
            "207/207 - 127s - loss: 0.3803 - accuracy: 0.7374 - 127s/epoch - 612ms/step\n",
            "Epoch 26/30\n",
            "207/207 - 126s - loss: 0.3799 - accuracy: 0.7345 - 126s/epoch - 610ms/step\n",
            "Epoch 27/30\n",
            "207/207 - 127s - loss: 0.3794 - accuracy: 0.7333 - 127s/epoch - 611ms/step\n",
            "Epoch 28/30\n",
            "207/207 - 127s - loss: 0.3798 - accuracy: 0.7342 - 127s/epoch - 615ms/step\n",
            "Epoch 29/30\n",
            "207/207 - 127s - loss: 0.4877 - accuracy: 0.7084 - 127s/epoch - 613ms/step\n",
            "Epoch 30/30\n",
            "207/207 - 126s - loss: 0.4133 - accuracy: 0.7238 - 126s/epoch - 611ms/step\n",
            "El entrenamiento se ha completado y el historial ha sido guardado en 'history_lstm.joblib'.\n"
          ]
        }
      ]
    },
    {
      "cell_type": "code",
      "source": [
        "lstm_model = Sequential(model.layers[:-1])\n",
        "X_train_embeddings = lstm_model.predict(X_train_seq)\n",
        "X_test_embeddings = lstm_model.predict(X_test_seq)"
      ],
      "metadata": {
        "colab": {
          "base_uri": "https://localhost:8080/"
        },
        "id": "2rp9UHwd9gnk",
        "outputId": "ad52d7b8-fe83-4aee-a434-5f5676ab9a6a"
      },
      "execution_count": 209,
      "outputs": [
        {
          "output_type": "stream",
          "name": "stdout",
          "text": [
            "207/207 [==============================] - 5s 21ms/step\n",
            "33/33 [==============================] - 1s 20ms/step\n"
          ]
        }
      ]
    },
    {
      "cell_type": "code",
      "source": [
        "Y_test = np.argmax(Y_test, axis=1)\n",
        "Y_train = np.argmax(Y_train, axis=1)"
      ],
      "metadata": {
        "id": "K7seMkFaDzD3"
      },
      "execution_count": 210,
      "outputs": []
    },
    {
      "cell_type": "code",
      "source": [
        "from sklearn.model_selection import GridSearchCV\n",
        "\n",
        "param_grid = {\n",
        "    'n_estimators': [50, 100, 200],\n",
        "    'max_depth': [3, 5, 7],\n",
        "    'learning_rate': [0.01, 0.1, 0.2]\n",
        "}\n",
        "\n",
        "xgb_model = xgb.XGBClassifier(objective='binary:logistic', use_label_encoder=False, eval_metric='logloss')\n",
        "\n",
        "grid_search = GridSearchCV(\n",
        "    estimator=xgb_model,\n",
        "    param_grid=param_grid,\n",
        "    scoring='roc_auc',\n",
        "    cv=5,\n",
        "    verbose=1,\n",
        "    n_jobs=-1\n",
        ")\n",
        "\n",
        "grid_search.fit(X_train_embeddings, Y_train)\n",
        "\n",
        "best_params = grid_search.best_params_\n",
        "print(\"Mejores hiperparámetros encontrados:\")\n",
        "print(best_params)\n",
        "\n",
        "best_model = grid_search.best_estimator_\n",
        "y_pred = best_model.predict(X_test_embeddings)\n",
        "accuracy = accuracy_score(Y_test, y_pred)\n",
        "print(\"Precisión del modelo XGBoost:\", accuracy)\n"
      ],
      "metadata": {
        "colab": {
          "base_uri": "https://localhost:8080/"
        },
        "id": "tPneAGUO9k1n",
        "outputId": "ddc11226-2653-4297-8690-9d5b549f7c00"
      },
      "execution_count": 215,
      "outputs": [
        {
          "output_type": "stream",
          "name": "stdout",
          "text": [
            "Fitting 5 folds for each of 27 candidates, totalling 135 fits\n",
            "Mejores hiperparámetros encontrados:\n",
            "{'learning_rate': 0.1, 'max_depth': 3, 'n_estimators': 50}\n"
          ]
        }
      ]
    },
    {
      "cell_type": "code",
      "source": [
        "report = classification_report(Y_test, y_pred)\n",
        "print(report)"
      ],
      "metadata": {
        "colab": {
          "base_uri": "https://localhost:8080/"
        },
        "id": "rMctzhFDpR6h",
        "outputId": "8cfa9c80-3bf7-47c3-d5ec-14577886335d"
      },
      "execution_count": 216,
      "outputs": [
        {
          "output_type": "stream",
          "name": "stdout",
          "text": [
            "              precision    recall  f1-score   support\n",
            "\n",
            "           0       0.75      0.25      0.38       622\n",
            "           1       0.44      0.88      0.59       422\n",
            "\n",
            "    accuracy                           0.51      1044\n",
            "   macro avg       0.60      0.57      0.48      1044\n",
            "weighted avg       0.63      0.51      0.46      1044\n",
            "\n"
          ]
        }
      ]
    },
    {
      "cell_type": "code",
      "source": [
        "from sklearn.metrics import confusion_matrix, ConfusionMatrixDisplay\n",
        "\n",
        "y_pred = best_model.predict(X_test_embeddings)\n",
        "\n",
        "conf_matrix = confusion_matrix(Y_test, y_pred)\n",
        "\n",
        "disp = ConfusionMatrixDisplay(confusion_matrix=conf_matrix, display_labels=best_model.classes_)\n",
        "disp.plot(cmap='Blues')\n",
        "plt.title(\"Matriz de Confusión - Modelo Ajustado\")\n",
        "plt.show()"
      ],
      "metadata": {
        "colab": {
          "base_uri": "https://localhost:8080/",
          "height": 472
        },
        "id": "yqSmhhQmEZ_g",
        "outputId": "a938863b-98a0-48de-8019-388e35332d65"
      },
      "execution_count": 218,
      "outputs": [
        {
          "output_type": "display_data",
          "data": {
            "text/plain": [
              "<Figure size 640x480 with 2 Axes>"
            ],
            "image/png": "[encoded data removed]"
          },
          "metadata": {}
        }
      ]
    }
  ]
}